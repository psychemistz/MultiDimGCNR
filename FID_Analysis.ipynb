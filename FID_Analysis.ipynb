{
  "nbformat": 4,
  "nbformat_minor": 0,
  "metadata": {
    "colab": {
      "provenance": [],
      "collapsed_sections": [],
      "authorship_tag": "ABX9TyNrber+sD+sXyS4Iovz/2jZ",
      "include_colab_link": true
    },
    "kernelspec": {
      "name": "python3",
      "display_name": "Python 3"
    },
    "language_info": {
      "name": "python"
    },
    "accelerator": "GPU"
  },
  "cells": [
    {
      "cell_type": "markdown",
      "metadata": {
        "id": "view-in-github",
        "colab_type": "text"
      },
      "source": [
        "<a href=\"https://colab.research.google.com/github/psychemistz/MultiDimGCNR/blob/main/FID_Analysis.ipynb\" target=\"_parent\"><img src=\"https://colab.research.google.com/assets/colab-badge.svg\" alt=\"Open In Colab\"/></a>"
      ]
    },
    {
      "cell_type": "markdown",
      "source": [
        "# Analysing style-transfer using Frechet Inception Distance (FID)\n",
        "\n",
        "https://wandb.ai/ayush-thakur/gan-evaluation/reports/How-to-Evaluate-GANs-using-Frechet-Inception-Distance-FID---Vmlldzo0MTAxOTI"
      ],
      "metadata": {
        "id": "P5Qvpg3tqHMK"
      }
    },
    {
      "cell_type": "code",
      "source": [
        "import os\n",
        "from google.colab import drive\n",
        "drive.mount('/content/drive',force_remount=True)\n",
        "drive_path = '/content/drive/MyDrive/COLAB_DRIVE/CycleGAN_Denoising_Code'\n",
        "\n",
        "os.chdir(drive_path)\n",
        "os.getcwd() \n",
        "!ls\n",
        "###################################\n",
        "import PIL.Image as Image\n",
        "\n",
        "def image_normalize(filename):\n",
        "  target_size = (256, 256)\n",
        "  # images_arr = np.zeros((1, 256, 256, 3), dtype=np.float32)\n",
        "  img = Image.open(filename)\n",
        "  if (img.mode == 'CMYK')|(img.mode == 'RBFA'):\n",
        "    img = img.convert('RGB')\n",
        "  img = img.resize(target_size, Image.ANTIALIAS)\n",
        "  if(len(np.asarray(img).shape)<3):\n",
        "    img = np.expand_dims(np.asarray(img),axis=2)\n",
        "    img = np.concatenate((img,img,img), axis=2)\n",
        "  img = np.asarray(img).astype(np.float32)/255\n",
        "  img = np.expand_dims(np.asarray(img),axis=0)\n",
        "  return img\n",
        "###################################################  \n",
        "import tensorflow as tf\n",
        "inception_model = tf.keras.applications.InceptionV3(include_top=False, \n",
        "                              weights=\"imagenet\", \n",
        "                              pooling='avg')\n",
        "\n",
        "\n",
        "###################################################  \n",
        "from scipy import linalg\n",
        "def calculate_fid(real_embeddings, generated_embeddings):\n",
        "  # calculate mean and covariance statistics\n",
        "  mu1, sigma1 = real_embeddings.mean(axis=0), np.cov(real_embeddings, rowvar=False)\n",
        "  mu2, sigma2 = generated_embeddings.mean(axis=0), np.cov(generated_embeddings,  rowvar=False)\n",
        "  # calculate sum squared difference between means\n",
        "  ssdiff = np.sum((mu1 - mu2)**2.0)\n",
        "  # calculate sqrt of product between cov\n",
        "  covmean = linalg.sqrtm(sigma1.dot(sigma2))\n",
        "  # check and correct imaginary numbers from sqrt\n",
        "  if np.iscomplexobj(covmean):\n",
        "    covmean = covmean.real\n",
        "  # calculate score\n",
        "  fid = ssdiff + np.trace(sigma1 + sigma2 - 2.0 * covmean)\n",
        "  return fid"
      ],
      "metadata": {
        "id": "aP42QFUAgJAr",
        "colab": {
          "base_uri": "https://localhost:8080/"
        },
        "outputId": "cbc899cc-1069-499d-d5cf-7828a1868e38"
      },
      "execution_count": null,
      "outputs": [
        {
          "output_type": "stream",
          "name": "stdout",
          "text": [
            "Mounted at /content/drive\n",
            "architecture\t\t       progress\n",
            "Calculate_GMDM_color_wise.asv  __pycache__\n",
            "Calculate_GMDM_color_wise.m    style_analysis_figure.fig\n",
            "Calculate_GMDM.m\t       style_analysis_figure.png\n",
            "CycleGAN_Training.py\t       style_analysis_results.mat\n",
            "data\t\t\t       summaries\n",
            "GSSMD.m\t\t\t       Test.py\n",
            "kernelpca_tutorial.m\t       training_weights\n",
            "load_images.m\t\t       utils.py\n",
            "pca_proj.m\t\t       Visualize_Distribution_Shift.m\n",
            "Downloading data from https://storage.googleapis.com/tensorflow/keras-applications/inception_v3/inception_v3_weights_tf_dim_ordering_tf_kernels_notop.h5\n",
            "87916544/87910968 [==============================] - 1s 0us/step\n",
            "87924736/87910968 [==============================] - 1s 0us/step\n"
          ]
        }
      ]
    },
    {
      "cell_type": "code",
      "source": [
        "checkpoints = ['500', '1000', '1500', '2000', '2500', '3000', '3500', '4000']\n",
        "fid_inp_tar =[]\n",
        "fid_inp_out =[]\n",
        "fid_out_tar =[]\n",
        "\n",
        "for chkpt in checkpoints:\n",
        "# eval_checkpoint = './data/Test/predicted_1500'\n",
        "  eval_checkpoint = './data/Test/predicted_' + chkpt\n",
        "  input_path   = eval_checkpoint + '/input_img'\n",
        "  label_path   = eval_checkpoint + '/target_img'\n",
        "  output_path   = eval_checkpoint + '/output_img'\n",
        "\n",
        "  import glob\n",
        "  import numpy as np\n",
        "  input_list = glob.glob(input_path+\"*.jpg\")\n",
        "  target_list = glob.glob(label_path+\"*.jpg\")\n",
        "  output_list = glob.glob(output_path+\"*.jpg\")\n",
        "\n",
        "  num_samples    = len(input_list)\n",
        "  counter = 0\n",
        "\n",
        "  input_embeddings = []\n",
        "  target_embeddings = []\n",
        "  output_embeddings = []\n",
        "\n",
        "  for sam_loop in range(num_samples):\n",
        "  # for sam_loop in range(3):\n",
        "        input_path = input_list[sam_loop]\n",
        "        target_path = target_list[sam_loop]\n",
        "        output_path = output_list[sam_loop]\n",
        "        input_embeddings.extend(inception_model.predict(image_normalize(input_path)))\n",
        "        target_embeddings.extend(inception_model.predict(image_normalize(target_path)))\n",
        "        output_embeddings.extend(inception_model.predict(image_normalize(output_path)))\n",
        "\n",
        "  input_embeddings = np.array(input_embeddings)\n",
        "  target_embeddings = np.array(target_embeddings)\n",
        "  output_embeddings = np.array(output_embeddings)\n",
        "\n",
        "  fid_inp_tar.append(calculate_fid(input_embeddings, target_embeddings))\n",
        "  fid_inp_out.append(calculate_fid(input_embeddings, output_embeddings))\n",
        "  fid_out_tar.append(calculate_fid(output_embeddings, target_embeddings))\n",
        "\n",
        "  print('FID-scores for the checkpoint: ',chkpt)\n",
        "  print('fid_inp_tar: ', fid_inp_tar[-1])\n",
        "  print('fid_inp_out: ', fid_inp_out[-1])\n",
        "  print('fid_out_tar: ', fid_out_tar[-1])\n",
        "\n",
        "fid_inp_tar = np.array(fid_inp_tar)\n",
        "fid_inp_out = np.array(fid_inp_out)\n",
        "fid_out_tar = np.array(fid_out_tar)"
      ],
      "metadata": {
        "colab": {
          "base_uri": "https://localhost:8080/"
        },
        "id": "LZYElShOhClr",
        "outputId": "4caf500e-031c-49df-c2a4-e5455f9b35d6"
      },
      "execution_count": null,
      "outputs": [
        {
          "output_type": "stream",
          "name": "stdout",
          "text": [
            "FID-scores for the checkpoint:  500\n",
            "fid_inp_tar:  168.83003253726872\n",
            "fid_inp_out:  258.26930478402477\n",
            "fid_out_tar:  308.296510317429\n",
            "FID-scores for the checkpoint:  1000\n",
            "fid_inp_tar:  168.83003260889706\n",
            "fid_inp_out:  256.26481634843054\n",
            "fid_out_tar:  296.05906403179387\n",
            "FID-scores for the checkpoint:  1500\n",
            "fid_inp_tar:  168.8300324058848\n",
            "fid_inp_out:  295.5416917759486\n",
            "fid_out_tar:  292.5013375281662\n",
            "FID-scores for the checkpoint:  2000\n",
            "fid_inp_tar:  168.83003251929364\n",
            "fid_inp_out:  275.18955774967446\n",
            "fid_out_tar:  273.30281544350566\n",
            "FID-scores for the checkpoint:  2500\n",
            "fid_inp_tar:  168.83003251929364\n",
            "fid_inp_out:  218.54357978084755\n",
            "fid_out_tar:  219.63597557599016\n",
            "FID-scores for the checkpoint:  3000\n",
            "fid_inp_tar:  168.83003251929364\n",
            "fid_inp_out:  230.8240472053322\n",
            "fid_out_tar:  226.522456596332\n",
            "FID-scores for the checkpoint:  3500\n",
            "fid_inp_tar:  168.83003251929364\n",
            "fid_inp_out:  240.84291303705126\n",
            "fid_out_tar:  236.6427732793754\n",
            "FID-scores for the checkpoint:  4000\n",
            "fid_inp_tar:  168.83003251929364\n",
            "fid_inp_out:  210.75707505213143\n",
            "fid_out_tar:  219.56680742717674\n"
          ]
        }
      ]
    },
    {
      "cell_type": "code",
      "source": [
        "# FID-scores for the checkpoint: 500\n",
        "# fid_inp_tar:  168.83003388175507\n",
        "# fid_inp_out:  258.2693118067482\n",
        "# fid_out_tar:  308.2964975718319\n",
        "\n",
        "# FID-scores for the checkpoint: 1000\n",
        "# fid_inp_tar:  168.8300338335796\n",
        "# fid_inp_out:  256.2648310046467\n",
        "# fid_out_tar:  296.059060058215\n",
        "\n",
        "# FID-scores for the checkpoint: 1500\n",
        "# fid_inp_tar:  168.83003379220037\n",
        "# fid_inp_out:  295.54172450003034\n",
        "# fid_out_tar:  292.5013472703527\n",
        "\n",
        "# FID-scores for the checkpoint: 2000\n",
        "# fid_inp_tar:  168.83003372699216\n",
        "# fid_inp_out:  275.1896055159737\n",
        "# fid_out_tar:  273.3028210959583\n",
        "\n",
        "# FID-scores for the checkpoint: 2500  ---> THIS\n",
        "# fid_inp_tar:  168.83003372699216\n",
        "# fid_inp_out:  218.54361522643669\n",
        "# fid_out_tar:  219.63599119793108\n",
        "\n",
        "# FID-scores for the checkpoint: 3000\n",
        "# fid_inp_tar:  168.83003372699216\n",
        "# fid_inp_out:  230.82405727459278\n",
        "# fid_out_tar:  226.52246160064112\n",
        "\n",
        "# FID-scores for the checkpoint: 3500\n",
        "# fid_inp_tar:  168.83003372699216\n",
        "# fid_inp_out:  240.84293241872973\n",
        "# fid_out_tar:  236.6427687144859\n",
        "\n",
        "# FID-scores for the checkpoint: 4000 ---> and THIS\n",
        "# fid_inp_tar:  168.83003372699216\n",
        "# fid_inp_out:  210.7570881122477\n",
        "# fid_out_tar:  219.56681681381409"
      ],
      "metadata": {
        "id": "NiC_xOJCtbV6"
      },
      "execution_count": null,
      "outputs": []
    }
  ]
}